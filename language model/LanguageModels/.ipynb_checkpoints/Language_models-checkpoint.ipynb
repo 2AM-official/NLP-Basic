{
 "cells": [
  {
   "cell_type": "markdown",
   "metadata": {
    "id": "x-e_YmngNKqV"
   },
   "source": [
    "# Spring Statistical NLP, UCSD\n",
    "Programming Assignment 3: Language Modeling\n"
   ]
  },
  {
   "cell_type": "code",
   "execution_count": null,
   "metadata": {
    "colab": {
     "base_uri": "https://localhost:8080/"
    },
    "executionInfo": {
     "elapsed": 27835,
     "status": "ok",
     "timestamp": 1650327980551,
     "user": {
      "displayName": "Ndapandula Nakashole",
      "userId": "12501637879061685337"
     },
     "user_tz": 420
    },
    "id": "z7sPjr03NgN7",
    "outputId": "23f3bb21-61d4-4ec7-d66b-c0bbc81df15f"
   },
   "outputs": [
    {
     "name": "stdout",
     "output_type": "stream",
     "text": [
      "Mounted at /content/drive\n"
     ]
    }
   ],
   "source": [
    "from google.colab import drive\n",
    "drive.mount('/content/drive')\n",
    "\n"
   ]
  },
  {
   "cell_type": "code",
   "execution_count": null,
   "metadata": {
    "id": "QjAnhVyYNm1q"
   },
   "outputs": [],
   "source": [
    "import sys\n",
    "sys.path.append('/content/drive/My Drive/2022NLP/LanguageModels/')"
   ]
  },
  {
   "cell_type": "code",
   "execution_count": null,
   "metadata": {
    "id": "ebRyPewjNKqY"
   },
   "outputs": [],
   "source": [
    "import data as datainterface\n",
    "from generator import Sampler\n",
    "import random\n",
    "import timeit\n",
    "import nltk\n",
    "nltk.download('punkt')\n",
    "\n",
    "import matplotlib.pyplot as plt\n",
    "%matplotlib inline\n",
    "\n"
   ]
  },
  {
   "cell_type": "markdown",
   "metadata": {
    "id": "6VNrt8TaNKqZ"
   },
   "source": [
    "## 1. Read in data, train unigram language models\n",
    "\n",
    "<b>Brown Corpus</b>: The objective of this corpus is to be the standard corpus for present\n",
    "day ( 1979 -) American English <br>\n",
    "<b> Gutenberg Corpus</b>: Contains a selection of text from public domain works by authors\n",
    "including Jane Austen and William Shakespeare <br>\n",
    "<b> Reuters Corpus</b>: A collection of financial news articles that appeared on the Reuters\n",
    "newswire in 1987."
   ]
  },
  {
   "cell_type": "code",
   "execution_count": null,
   "metadata": {
    "colab": {
     "base_uri": "https://localhost:8080/"
    },
    "executionInfo": {
     "elapsed": 8407,
     "status": "ok",
     "timestamp": 1650328195650,
     "user": {
      "displayName": "Ndapandula Nakashole",
      "userId": "12501637879061685337"
     },
     "user_tz": 420
    },
    "id": "Ck8MWuOJNKqZ",
    "outputId": "ab2b7e98-2558-4f60-c655-43aff261ec7d"
   },
   "outputs": [
    {
     "name": "stdout",
     "output_type": "stream",
     "text": [
      "-----------------------\n",
      "brown\n",
      "\ttest: brown/brown.test.txt\n",
      "\ttrain: brown/brown.train.txt\n",
      "\tdev: brown/brown.dev.txt\n",
      "brown  read. train: 39802 dev: 8437 test: 8533\n",
      "-----------------------\n",
      "reuters\n",
      "\tdev: reuters/reuters.dev.txt\n",
      "\ttest: reuters/reuters.test.txt\n",
      "\ttrain: reuters/reuters.train.txt\n",
      "reuters  read. train: 38169 dev: 8082 test: 8214\n",
      "-----------------------\n",
      "gutenberg\n",
      "\tdev: gutenberg/gutenberg.dev.txt\n",
      "\ttrain: gutenberg/gutenberg.train.txt\n",
      "\ttest: gutenberg/gutenberg.test.txt\n",
      "gutenberg  read. train: 68740 dev: 14729 test: 14826\n"
     ]
    }
   ],
   "source": [
    "\n",
    "path = \"/content/drive/My Drive/2022NLP/LanguageModels/\"\n",
    "dnames = [\"brown\", \"reuters\", \"gutenberg\"]\n",
    "datas = {}\n",
    "models = {}\n",
    "# Learn the models for each of the domains, and evaluate it\n",
    "for dname in dnames:\n",
    "    print(\"-----------------------\")\n",
    "    print(dname)\n",
    "    data = datainterface.read_texts(path+\"corpora.tar.gz\", dname)\n",
    "    datas[dname] = data\n",
    "    model = datainterface.learn_unigram(data, False)\n",
    "    models[dname] = model"
   ]
  },
  {
   "cell_type": "markdown",
   "metadata": {
    "id": "fEcNeqE4NKqa"
   },
   "source": [
    "# 2. What is in the data"
   ]
  },
  {
   "cell_type": "code",
   "execution_count": null,
   "metadata": {
    "colab": {
     "base_uri": "https://localhost:8080/"
    },
    "executionInfo": {
     "elapsed": 146,
     "status": "ok",
     "timestamp": 1650328198935,
     "user": {
      "displayName": "Ndapandula Nakashole",
      "userId": "12501637879061685337"
     },
     "user_tz": 420
    },
    "id": "jvUgOSsYNKqa",
    "outputId": "1d4a34cc-2e5a-44f5-830d-6c940b76de58"
   },
   "outputs": [
    {
     "name": "stdout",
     "output_type": "stream",
     "text": [
      "['brown', 'reuters', 'gutenberg']\n",
      "The brown corpus\n",
      "\tvocab: 41746\n",
      "\tSome words: ['commonly', 'andean', 'supt', 'auxiliaries', 'implementing']\n",
      "\t:  It recommended that Fulton legislators act to have these laws studied and revised to the end of modernizing and improving them\n",
      "------------------------------\n",
      "The reuters corpus\n",
      "\tvocab: 36037\n",
      "\tSome words: ['unpaid', 'surpass', 'makumbi', 'ballan', 'basin']\n",
      "\t:  We wouldn be able to do business said spokesman for leading Japanese electronics firm Matsushita Electric Industrial Co Ltd lt MC\n",
      "------------------------------\n",
      "The gutenberg corpus\n",
      "\tvocab: 43835\n",
      "\tSome words: ['amusements', 'complicated', 'outfit', 'qualification', 'fruitlessly']\n",
      "\t:  Her mother had died too long ago for her to have more than an indistinct remembrance of her caresses and her place had been supplied by an excellent woman as governess who had fallen little short of mother in affection\n",
      "------------------------------\n"
     ]
    }
   ],
   "source": [
    "print(dnames)\n",
    "for current_corpus in dnames:\n",
    "    print('The %s corpus' %current_corpus)\n",
    "    data = datas[current_corpus]\n",
    "    model = models[current_corpus]\n",
    "\n",
    "    print(\"\\tvocab:\", len(model.vocab()))\n",
    "    words = list(model.vocab())\n",
    "    random.shuffle(words)\n",
    "    print(\"\\tSome words:\", [x.lower() for x in words][:5]) # show five words\n",
    "    print('\\t: ', \" \".join(data.train[3])) # third training sentence\n",
    "    print(\"-\"*30)\n",
    "\n"
   ]
  },
  {
   "cell_type": "code",
   "execution_count": null,
   "metadata": {
    "colab": {
     "base_uri": "https://localhost:8080/"
    },
    "executionInfo": {
     "elapsed": 704,
     "status": "ok",
     "timestamp": 1650328241932,
     "user": {
      "displayName": "Ndapandula Nakashole",
      "userId": "12501637879061685337"
     },
     "user_tz": 420
    },
    "id": "CItJpESROl38",
    "outputId": "7974d954-bfc5-4d07-d1c5-5421d695f4be"
   },
   "outputs": [
    {
     "name": "stdout",
     "output_type": "stream",
     "text": [
      "[nltk_data] Downloading package punkt to /root/nltk_data...\n",
      "[nltk_data]   Unzipping tokenizers/punkt.zip.\n"
     ]
    },
    {
     "data": {
      "text/plain": [
       "True"
      ]
     },
     "execution_count": 10,
     "metadata": {},
     "output_type": "execute_result"
    }
   ],
   "source": []
  },
  {
   "cell_type": "code",
   "execution_count": null,
   "metadata": {
    "colab": {
     "base_uri": "https://localhost:8080/",
     "height": 309
    },
    "executionInfo": {
     "elapsed": 6006,
     "status": "ok",
     "timestamp": 1650328250184,
     "user": {
      "displayName": "Ndapandula Nakashole",
      "userId": "12501637879061685337"
     },
     "user_tz": 420
    },
    "id": "h-pGT28tNKqb",
    "outputId": "494b74b9-7a20-4729-e532-348c0f163869"
   },
   "outputs": [
    {
     "name": "stdout",
     "output_type": "stream",
     "text": [
      "Top-15 words in the reuters corpus\n"
     ]
    },
    {
     "data": {
      "image/png": "[encoded data removed]",
      "text/plain": [
       "<Figure size 432x288 with 1 Axes>"
      ]
     },
     "metadata": {
      "needs_background": "light"
     },
     "output_type": "display_data"
    }
   ],
   "source": [
    "# Take a look at the frequency distribution\n",
    "\n",
    "current_corpus = dnames[1]\n",
    "\n",
    "from nltk.probability import FreqDist\n",
    "x =  [\" \".join(x) for x in data.train]\n",
    "p = \" \".join([j.lower() for j in x])\n",
    "words = nltk.tokenize.word_tokenize(p)\n",
    "fdist = FreqDist(words)\n",
    "#print(len(x), len(p), len(words))\n",
    "k = 15\n",
    "print('Top-%d words in the %s corpus' %(k, current_corpus))\n",
    "fdist.plot(15, cumulative=True)"
   ]
  },
  {
   "cell_type": "code",
   "execution_count": null,
   "metadata": {
    "colab": {
     "base_uri": "https://localhost:8080/",
     "height": 240
    },
    "executionInfo": {
     "elapsed": 87219,
     "status": "error",
     "timestamp": 1650328341136,
     "user": {
      "displayName": "Ndapandula Nakashole",
      "userId": "12501637879061685337"
     },
     "user_tz": 420
    },
    "id": "AlWFD7N9NKqc",
    "outputId": "a9256465-9c36-4eca-c74d-b478ae385006"
   },
   "outputs": [
    {
     "ename": "KeyboardInterrupt",
     "evalue": "ignored",
     "output_type": "error",
     "traceback": [
      "\u001b[0;31m---------------------------------------------------------------------------\u001b[0m",
      "\u001b[0;31mKeyboardInterrupt\u001b[0m                         Traceback (most recent call last)",
      "\u001b[0;32m<ipython-input-12-e2c3701698d3>\u001b[0m in \u001b[0;36m<module>\u001b[0;34m()\u001b[0m\n\u001b[1;32m      8\u001b[0m \u001b[0mwordslong\u001b[0m \u001b[0;34m=\u001b[0m \u001b[0;34m[\u001b[0m\u001b[0;34m]\u001b[0m\u001b[0;34m\u001b[0m\u001b[0;34m\u001b[0m\u001b[0m\n\u001b[1;32m      9\u001b[0m \u001b[0;32mfor\u001b[0m \u001b[0mword\u001b[0m \u001b[0;32min\u001b[0m \u001b[0mwords\u001b[0m\u001b[0;34m:\u001b[0m\u001b[0;34m\u001b[0m\u001b[0;34m\u001b[0m\u001b[0m\n\u001b[0;32m---> 10\u001b[0;31m     \u001b[0;32mif\u001b[0m \u001b[0mword\u001b[0m \u001b[0;32min\u001b[0m \u001b[0mlong_words\u001b[0m\u001b[0;34m:\u001b[0m\u001b[0;34m\u001b[0m\u001b[0;34m\u001b[0m\u001b[0m\n\u001b[0m\u001b[1;32m     11\u001b[0m         \u001b[0mwordslong\u001b[0m\u001b[0;34m.\u001b[0m\u001b[0mappend\u001b[0m\u001b[0;34m(\u001b[0m\u001b[0mword\u001b[0m\u001b[0;34m)\u001b[0m\u001b[0;34m\u001b[0m\u001b[0;34m\u001b[0m\u001b[0m\n\u001b[1;32m     12\u001b[0m     \u001b[0;32melse\u001b[0m\u001b[0;34m:\u001b[0m\u001b[0;34m\u001b[0m\u001b[0;34m\u001b[0m\u001b[0m\n",
      "\u001b[0;31mKeyboardInterrupt\u001b[0m: "
     ]
    }
   ],
   "source": [
    "# # Frequency distribution of long words (slow)\n",
    "# V = set(words)\n",
    "# min_freq = 10\n",
    "# long_words = [w for w in V if len(w) > 10]\n",
    "\n",
    "\n",
    "# start_time = timeit.default_timer() \n",
    "# wordslong = []\n",
    "# for word in words:\n",
    "#     if word in long_words:\n",
    "#         wordslong.append(word)\n",
    "#     else:\n",
    "#         wordslong.append('-VSHORT-')\n",
    "# elapsed = timeit.default_timer() - start_time\n",
    "\n",
    "# print('Top-%d words in the %s corpus, where character count > %d ' %(k, current_corpus, min_freq))\n",
    "\n",
    "# print(\"long words (%d): time %.5f mins\" % (len(wordslong), elapsed / float(60)))\n",
    " \n",
    "# title_words = current_corpus+ \" Frequent (long) words\"\n",
    "# fdist1 = FreqDist(wordslong)\n",
    "# fdist1.most_common(10)\n",
    "# fdist1.plot(15, cumulative=True, title=title_words)"
   ]
  },
  {
   "cell_type": "markdown",
   "metadata": {
    "id": "lRy8c3w8NKqc"
   },
   "source": [
    "# 3. Compute Perplexity\n"
   ]
  },
  {
   "cell_type": "code",
   "execution_count": null,
   "metadata": {
    "colab": {
     "base_uri": "https://localhost:8080/"
    },
    "executionInfo": {
     "elapsed": 3283,
     "status": "ok",
     "timestamp": 1650328348798,
     "user": {
      "displayName": "Ndapandula Nakashole",
      "userId": "12501637879061685337"
     },
     "user_tz": 420
    },
    "id": "7sumIqr9NKqd",
    "outputId": "789f630b-36b0-4672-d033-767f4645c47d"
   },
   "outputs": [
    {
     "name": "stdout",
     "output_type": "stream",
     "text": [
      "Corpus: brown\n",
      "\ttrain: 1513.8018008490042\n",
      "\tdev  : 1589.3868225664532\n",
      "\ttest : 1604.198220472703\n",
      "~~~~~~~~~~~~~~~~~~~~~~~~~~~~~~~~~~~~~~~~~~~~~~~~~~\n",
      "Corpus: reuters\n",
      "\ttrain: 1471.209708062019\n",
      "\tdev  : 1479.0930760437175\n",
      "\ttest : 1500.6949333808543\n",
      "~~~~~~~~~~~~~~~~~~~~~~~~~~~~~~~~~~~~~~~~~~~~~~~~~~\n",
      "Corpus: gutenberg\n",
      "\ttrain: 982.5718078017832\n",
      "\tdev  : 991.5002070957079\n",
      "\ttest : 1005.7898465085633\n",
      "~~~~~~~~~~~~~~~~~~~~~~~~~~~~~~~~~~~~~~~~~~~~~~~~~~\n"
     ]
    }
   ],
   "source": [
    "for dname in dnames:\n",
    "    print('Corpus: %s' %(dname))\n",
    "    print(\"\\ttrain:\", models[dname].perplexity(datas[dname].train))\n",
    "    print(\"\\tdev  :\", models[dname].perplexity(datas[dname].dev))\n",
    "    print(\"\\ttest :\", models[dname].perplexity(datas[dname].test))\n",
    "    print('~'*50)"
   ]
  },
  {
   "cell_type": "markdown",
   "metadata": {
    "id": "0UbouAV6NKqd"
   },
   "source": [
    "# 4. Plot perplexity as a function of training data size\n"
   ]
  },
  {
   "cell_type": "code",
   "execution_count": null,
   "metadata": {
    "colab": {
     "base_uri": "https://localhost:8080/",
     "height": 313
    },
    "executionInfo": {
     "elapsed": 3426,
     "status": "ok",
     "timestamp": 1650328366074,
     "user": {
      "displayName": "Ndapandula Nakashole",
      "userId": "12501637879061685337"
     },
     "user_tz": 420
    },
    "id": "i2CuCodBNKqd",
    "outputId": "3708ab4b-6bd9-4f2f-8421-77069e485590"
   },
   "outputs": [
    {
     "name": "stdout",
     "output_type": "stream",
     "text": [
      "Corpus: reuters\n"
     ]
    },
    {
     "data": {
      "image/png": "[encoded data removed]",
      "text/plain": [
       "<Figure size 432x288 with 1 Axes>"
      ]
     },
     "metadata": {
      "needs_background": "light"
     },
     "output_type": "display_data"
    }
   ],
   "source": [
    "## this doesn't actually change the training splits.\n",
    "## For assignment 3, part 2.1 it is sufficient to just note the different amounts of data available for each domain and note the performance.\n",
    "def corpussubsets(l, n):\n",
    "    for i in range(0, len(l), n):\n",
    "        yield l[:i + n]\n",
    "        \n",
    "        \n",
    "colors = {}\n",
    "colors['reuters'] ='m-' \n",
    "colors['brown'] = 'r-'\n",
    "colors['gutenberg'] = 'b--'\n",
    "\n",
    "current_corpus = 'reuters'\n",
    "print('Corpus: %s' %(current_corpus))\n",
    "batch_size = int(len(datas[current_corpus].train)/float(10))\n",
    "chunks = corpussubsets(datas[current_corpus].train[:batch_size*10], batch_size)\n",
    "perplexities = []\n",
    "chunks_lens = []\n",
    "for chunk in chunks:\n",
    "    #print(' ', len(i))\n",
    "    chunks_lens.append( len(chunk))\n",
    "    perplexities.append(models[current_corpus].perplexity(chunk)) \n",
    "\n",
    "plt.xlabel('Training data size')\n",
    "plt.ylabel('Perplexity')\n",
    "title = current_corpus+': training data size vs perplexity'\n",
    "plt.title(title)\n",
    "plt.plot(chunks_lens, perplexities, colors[current_corpus])\n",
    "plt.plot(chunks_lens, perplexities, 'bo')\n",
    "plt.show()"
   ]
  },
  {
   "cell_type": "markdown",
   "metadata": {
    "id": "YnJ5K8TMNKqe"
   },
   "source": [
    "# 5. Sample Sentences"
   ]
  },
  {
   "cell_type": "markdown",
   "metadata": {
    "id": "FTV-yeoYNKqe"
   },
   "source": [
    "## 5.1 Sample sentences with a specified prefix\n"
   ]
  },
  {
   "cell_type": "code",
   "execution_count": null,
   "metadata": {
    "colab": {
     "base_uri": "https://localhost:8080/"
    },
    "executionInfo": {
     "elapsed": 8640,
     "status": "ok",
     "timestamp": 1650328386127,
     "user": {
      "displayName": "Ndapandula Nakashole",
      "userId": "12501637879061685337"
     },
     "user_tz": 420
    },
    "id": "OS5339TyNKqe",
    "outputId": "14b11b27-c6da-4d4a-9237-d3a5ef99cf3c"
   },
   "outputs": [
    {
     "name": "stdout",
     "output_type": "stream",
     "text": [
      "sample 1:  Hoa contributed for the address before was in to men funny creation carries chief on citizen if and of and each light on\n",
      "\n",
      "sample 2:  corner of service of cell thus regime liberal rise range to One in that around to\n"
     ]
    }
   ],
   "source": [
    "from generator import Sampler\n",
    "sampler = Sampler(models['brown'])\n",
    "print(\"sample 1: \", \" \".join(str(x) for x in sampler.sample_sentence([])))\n",
    "print(\"\\nsample 2: \", \" \".join(str(x) for x in sampler.sample_sentence([])))"
   ]
  },
  {
   "cell_type": "markdown",
   "metadata": {
    "id": "-qXWWsOuNKqf"
   },
   "source": [
    "## 5.2 Sample sentences with a specified prefix"
   ]
  },
  {
   "cell_type": "code",
   "execution_count": null,
   "metadata": {
    "colab": {
     "base_uri": "https://localhost:8080/"
    },
    "executionInfo": {
     "elapsed": 5327,
     "status": "ok",
     "timestamp": 1650328393391,
     "user": {
      "displayName": "Ndapandula Nakashole",
      "userId": "12501637879061685337"
     },
     "user_tz": 420
    },
    "id": "Pcd2BOeJNKqf",
    "outputId": "fa0be73f-42f6-4259-ed95-bad44ee9c7a2"
   },
   "outputs": [
    {
     "name": "stdout",
     "output_type": "stream",
     "text": [
      "sample 1:  shareholders could of control soon with back handing slender Libertines brac root Unlimited Miss his into of De She\n",
      "\n",
      "sample 2:  administration film able family of Rome the\n"
     ]
    }
   ],
   "source": [
    "print(\"sample 1: \", \" \".join(str(x) for x in sampler.sample_sentence(['shareholders could'])))\n",
    "print(\"\\nsample 2: \", \" \".join(str(x) for x in sampler.sample_sentence(['administration'])))"
   ]
  },
  {
   "cell_type": "code",
   "execution_count": null,
   "metadata": {
    "id": "HnXi-znXNKqf"
   },
   "outputs": [],
   "source": [
    "print(\"\\nsample 2: \", \" \".join(str(x) for x in sampler.sample_sentence(['America'])))"
   ]
  }
 ],
 "metadata": {
  "colab": {
   "collapsed_sections": [],
   "name": "Language_models.ipynb",
   "provenance": []
  },
  "kernelspec": {
   "display_name": "Python 3",
   "language": "python",
   "name": "python3"
  },
  "language_info": {
   "codemirror_mode": {
    "name": "ipython",
    "version": 3
   },
   "file_extension": ".py",
   "mimetype": "text/x-python",
   "name": "python",
   "nbconvert_exporter": "python",
   "pygments_lexer": "ipython3",
   "version": "3.7.3"
  }
 },
 "nbformat": 4,
 "nbformat_minor": 1
}
